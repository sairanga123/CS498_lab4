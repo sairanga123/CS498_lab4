{
 "cells": [
  {
   "cell_type": "markdown",
   "metadata": {},
   "source": [
    "# Markdown\n",
    "This is a markdown cell where we write instructions and math formulas. **Double click** to edit and **press Run** to see the formatted texts."
   ]
  },
  {
   "cell_type": "markdown",
   "metadata": {},
   "source": [
    "# Load and Save Notebook\n",
    "To load a note book, just go to \"File\" and navigate to \"Open...\". Use keyboard shortcut **Cmd/Ctrl+s** to save the file. You will be saving a checkpoint as well if you use this keyboard shortcut. You can click on \"File\" on the menu bar and select an option to revert to a certain checkpoint. Jupyter Notebook will also autosave your file every 120s, but it's still a good practice to press **Cmd/Ctrl+s** often when you write programs. "
   ]
  },
  {
   "cell_type": "markdown",
   "metadata": {},
   "source": [
    "# Code Blocks\n",
    "Below will be an example of a Python code block. Hit **Run** to run the block."
   ]
  },
  {
   "cell_type": "code",
   "execution_count": 1,
   "metadata": {},
   "outputs": [
    {
     "name": "stdout",
     "output_type": "stream",
     "text": [
      "Hello world!\n"
     ]
    }
   ],
   "source": [
    "print(\"Hello world!\")"
   ]
  },
  {
   "cell_type": "markdown",
   "metadata": {},
   "source": [
    "You can also hit **Run All** in \"Cell\" menu. To run every blocks. "
   ]
  },
  {
   "cell_type": "code",
   "execution_count": 2,
   "metadata": {},
   "outputs": [
    {
     "name": "stdout",
     "output_type": "stream",
     "text": [
      "Hello world, again!\n"
     ]
    }
   ],
   "source": [
    "print(\"Hello world, again!\")"
   ]
  },
  {
   "cell_type": "markdown",
   "metadata": {},
   "source": [
    "# Python Programming\n",
    "We have finished Jupyter Notebook introduction. Below we will start Python Programming."
   ]
  },
  {
   "cell_type": "markdown",
   "metadata": {},
   "source": [
    "## Importing Libraries\n",
    "For the lab, we will be using different libraries. This is how you do it in Python."
   ]
  },
  {
   "cell_type": "code",
   "execution_count": 2,
   "metadata": {},
   "outputs": [],
   "source": [
    "import pandas as pd\n",
    "import numpy as np"
   ]
  },
  {
   "cell_type": "markdown",
   "metadata": {},
   "source": [
    "By importing pandas as pd, you can use the shorthand `pd` when you need to use pandas. The same method applies to `np`."
   ]
  },
  {
   "cell_type": "markdown",
   "metadata": {},
   "source": [
    "## NumPy Tutorial\n",
    "Below we show you a few ways to create arrays."
   ]
  },
  {
   "cell_type": "code",
   "execution_count": 11,
   "metadata": {},
   "outputs": [
    {
     "name": "stdout",
     "output_type": "stream",
     "text": [
      "x:\n",
      " [0 1 2 3]\n",
      "y:\n",
      " [[0 1 2 3]\n",
      " [4 5 6 7]]\n",
      "z:\n",
      " [[0. 0. 0. 0.]\n",
      " [0. 0. 0. 0.]\n",
      " [0. 0. 0. 0.]]\n",
      "a:\n",
      " [[1. 1. 1. 1. 1.]\n",
      " [1. 1. 1. 1. 1.]\n",
      " [1. 1. 1. 1. 1.]\n",
      " [1. 1. 1. 1. 1.]\n",
      " [1. 1. 1. 1. 1.]]\n",
      "b:\n",
      " [ 0  2  4  6  8 10 12 14 16 18]\n",
      "c:\n",
      " [[ 0.  2.  4.  6.  8.]\n",
      " [10. 12. 14. 16. 18.]]\n",
      "d:\n",
      " [[0.75294125 0.80976605 0.08401273]\n",
      " [0.71902851 0.90460423 0.26972981]\n",
      " [0.81065987 0.35478825 0.2815138 ]\n",
      " [0.70371863 0.96402214 0.87457595]\n",
      " [0.49285049 0.73951861 0.69251929]\n",
      " [0.82293464 0.67770141 0.41918165]]\n",
      "New d:\n",
      " [[3.25882376 3.42929816 1.2520382 ]\n",
      " [3.15708554 3.71381269 1.80918942]\n",
      " [3.43197961 2.06436476 1.84454139]\n",
      " [3.1111559  3.89206641 3.62372784]\n",
      " [2.47855147 3.21855582 3.07755788]\n",
      " [3.46880391 3.03310422 2.25754494]]\n",
      "e:\n",
      " [[13.25882376 13.42929816 11.2520382 ]\n",
      " [13.15708554 13.71381269 11.80918942]\n",
      " [13.43197961 12.06436476 11.84454139]\n",
      " [13.1111559  13.89206641 13.62372784]\n",
      " [12.47855147 13.21855582 13.07755788]\n",
      " [13.46880391 13.03310422 12.25754494]]\n"
     ]
    }
   ],
   "source": [
    "# Create a basic array\n",
    "x = np.array([0, 1, 2, 3])\n",
    "print(\"x:\\n\", x)\n",
    "\n",
    "# Create a 2D array\n",
    "y = np.array([[0, 1, 2, 3],\n",
    "              [4, 5, 6, 7]])\n",
    "print(\"y:\\n\", y)\n",
    "\n",
    "# Create a 3 by 4 empty array\n",
    "z = np.zeros((3, 4))\n",
    "print(\"z:\\n\", z)\n",
    "\n",
    "# Create a 5 by 5 array filled with 1s\n",
    "a = np.ones((5, 5))\n",
    "print(\"a:\\n\", a)\n",
    "\n",
    "# Create a sequence of numbers, note the array does not include 20\n",
    "b = np.arange(0, 20, 2)\n",
    "print(\"b:\\n\", b)\n",
    "\n",
    "# Use reshape to change the dimention of the array\n",
    "c = np.arange(0, 20, 2, dtype=float).reshape(2, 5)\n",
    "print(\"c:\\n\", c)\n",
    "\n",
    "# Create a random 6 by 3 array with value between [0, 1).\n",
    "d = np.random.rand(6, 3)\n",
    "print(\"d:\\n\", d)\n",
    "    \n",
    "    # This creates random values ranging between [1, 4).\n",
    "d = d*3 + 1\n",
    "print(\"New d:\\n\", d)\n",
    "\n",
    "# Operations\n",
    "e = d + 10\n",
    "print(\"e:\\n\", e)"
   ]
  },
  {
   "cell_type": "markdown",
   "metadata": {},
   "source": [
    "**Now it's your turn.** \n",
    "\n",
    "**To-do:**\n",
    "1. Create and print out an empty array with dimensions of 15 by 29.\n",
    "2. From the 0 array you created, make it to an ones array without using np.ones. Print out the array.\n",
    "3. Create an 8 by 9 array with values between $[5, 11)$. Note that 11 is excluded. Print out the array.\n",
    "\n"
   ]
  },
  {
   "cell_type": "code",
   "execution_count": 7,
   "metadata": {},
   "outputs": [
    {
     "name": "stdout",
     "output_type": "stream",
     "text": [
      "[[1. 1. 1. 1. 1. 1. 1. 1. 1. 1. 1. 1. 1. 1. 1. 1. 1. 1. 1. 1. 1. 1. 1. 1.\n",
      "  1. 1. 1. 1. 1.]\n",
      " [1. 1. 1. 1. 1. 1. 1. 1. 1. 1. 1. 1. 1. 1. 1. 1. 1. 1. 1. 1. 1. 1. 1. 1.\n",
      "  1. 1. 1. 1. 1.]\n",
      " [1. 1. 1. 1. 1. 1. 1. 1. 1. 1. 1. 1. 1. 1. 1. 1. 1. 1. 1. 1. 1. 1. 1. 1.\n",
      "  1. 1. 1. 1. 1.]\n",
      " [1. 1. 1. 1. 1. 1. 1. 1. 1. 1. 1. 1. 1. 1. 1. 1. 1. 1. 1. 1. 1. 1. 1. 1.\n",
      "  1. 1. 1. 1. 1.]\n",
      " [1. 1. 1. 1. 1. 1. 1. 1. 1. 1. 1. 1. 1. 1. 1. 1. 1. 1. 1. 1. 1. 1. 1. 1.\n",
      "  1. 1. 1. 1. 1.]\n",
      " [1. 1. 1. 1. 1. 1. 1. 1. 1. 1. 1. 1. 1. 1. 1. 1. 1. 1. 1. 1. 1. 1. 1. 1.\n",
      "  1. 1. 1. 1. 1.]\n",
      " [1. 1. 1. 1. 1. 1. 1. 1. 1. 1. 1. 1. 1. 1. 1. 1. 1. 1. 1. 1. 1. 1. 1. 1.\n",
      "  1. 1. 1. 1. 1.]\n",
      " [1. 1. 1. 1. 1. 1. 1. 1. 1. 1. 1. 1. 1. 1. 1. 1. 1. 1. 1. 1. 1. 1. 1. 1.\n",
      "  1. 1. 1. 1. 1.]\n",
      " [1. 1. 1. 1. 1. 1. 1. 1. 1. 1. 1. 1. 1. 1. 1. 1. 1. 1. 1. 1. 1. 1. 1. 1.\n",
      "  1. 1. 1. 1. 1.]\n",
      " [1. 1. 1. 1. 1. 1. 1. 1. 1. 1. 1. 1. 1. 1. 1. 1. 1. 1. 1. 1. 1. 1. 1. 1.\n",
      "  1. 1. 1. 1. 1.]\n",
      " [1. 1. 1. 1. 1. 1. 1. 1. 1. 1. 1. 1. 1. 1. 1. 1. 1. 1. 1. 1. 1. 1. 1. 1.\n",
      "  1. 1. 1. 1. 1.]\n",
      " [1. 1. 1. 1. 1. 1. 1. 1. 1. 1. 1. 1. 1. 1. 1. 1. 1. 1. 1. 1. 1. 1. 1. 1.\n",
      "  1. 1. 1. 1. 1.]\n",
      " [1. 1. 1. 1. 1. 1. 1. 1. 1. 1. 1. 1. 1. 1. 1. 1. 1. 1. 1. 1. 1. 1. 1. 1.\n",
      "  1. 1. 1. 1. 1.]\n",
      " [1. 1. 1. 1. 1. 1. 1. 1. 1. 1. 1. 1. 1. 1. 1. 1. 1. 1. 1. 1. 1. 1. 1. 1.\n",
      "  1. 1. 1. 1. 1.]\n",
      " [1. 1. 1. 1. 1. 1. 1. 1. 1. 1. 1. 1. 1. 1. 1. 1. 1. 1. 1. 1. 1. 1. 1. 1.\n",
      "  1. 1. 1. 1. 1.]]\n",
      "[[ 8.65281968  6.20621404  7.15951678  8.05091674  5.54157146  6.77399624\n",
      "   8.14887399  5.71781161  6.38553859]\n",
      " [ 6.64592595  8.26494545  7.4507324   8.84931219  7.48895666 10.64836128\n",
      "   7.69037927  8.32306365  6.03847307]\n",
      " [ 9.06443074  5.51507531  7.56824232 10.67059284  9.0231274   9.1153983\n",
      "   5.13302671  5.76750517 10.32800869]\n",
      " [ 6.17010338  6.82618529  5.06931519  5.22264223 10.83502406  9.80049927\n",
      "   6.21908934  9.68186425  8.87301597]\n",
      " [ 5.69371488  5.01254379 10.52973802  6.55867305  8.81124868  6.38424252\n",
      "   9.31907107  8.67129234  6.65792075]\n",
      " [ 5.44710278 10.48768207  5.22146544 10.70428811 10.51139749  8.02007064\n",
      "   6.59696736  8.04710546  7.88354455]\n",
      " [ 9.00066475 10.02676705  7.81190011 10.64846178  5.65038167  9.11123019\n",
      "   9.50437683  8.22499224  6.80143969]\n",
      " [ 7.94108918  9.16772837 10.18961271  8.94227695  9.7522953   9.14261028\n",
      "  10.26840265  7.07847464  6.1587716 ]]\n"
     ]
    }
   ],
   "source": [
    "### Insert code below ###\n",
    "\n",
    "\n",
    "a = np.zeros((15,29))\n",
    "print(a + 1)\n",
    "\n",
    "b = np.random.rand(8,9) * 6 + 5\n",
    "print(b)"
   ]
  },
  {
   "cell_type": "markdown",
   "metadata": {},
   "source": [
    "## Pandas Tutorial\n",
    "### Create Data Frame\n",
    "Pandas is a data frame that will be used to handel our data."
   ]
  },
  {
   "cell_type": "code",
   "execution_count": 12,
   "metadata": {},
   "outputs": [
    {
     "name": "stdout",
     "output_type": "stream",
     "text": [
      "df_1:\n",
      "    col 1  col 2  col 3  col 4\n",
      "0      0      1      2      3\n",
      "1      4      5      6      7 \n",
      "\n",
      "------------------------------------\n",
      "df_1 using display:\n"
     ]
    },
    {
     "data": {
      "text/html": [
       "<div>\n",
       "<style scoped>\n",
       "    .dataframe tbody tr th:only-of-type {\n",
       "        vertical-align: middle;\n",
       "    }\n",
       "\n",
       "    .dataframe tbody tr th {\n",
       "        vertical-align: top;\n",
       "    }\n",
       "\n",
       "    .dataframe thead th {\n",
       "        text-align: right;\n",
       "    }\n",
       "</style>\n",
       "<table border=\"1\" class=\"dataframe\">\n",
       "  <thead>\n",
       "    <tr style=\"text-align: right;\">\n",
       "      <th></th>\n",
       "      <th>col 1</th>\n",
       "      <th>col 2</th>\n",
       "      <th>col 3</th>\n",
       "      <th>col 4</th>\n",
       "    </tr>\n",
       "  </thead>\n",
       "  <tbody>\n",
       "    <tr>\n",
       "      <th>0</th>\n",
       "      <td>0</td>\n",
       "      <td>1</td>\n",
       "      <td>2</td>\n",
       "      <td>3</td>\n",
       "    </tr>\n",
       "    <tr>\n",
       "      <th>1</th>\n",
       "      <td>4</td>\n",
       "      <td>5</td>\n",
       "      <td>6</td>\n",
       "      <td>7</td>\n",
       "    </tr>\n",
       "  </tbody>\n",
       "</table>\n",
       "</div>"
      ],
      "text/plain": [
       "   col 1  col 2  col 3  col 4\n",
       "0      0      1      2      3\n",
       "1      4      5      6      7"
      ]
     },
     "metadata": {},
     "output_type": "display_data"
    },
    {
     "name": "stdout",
     "output_type": "stream",
     "text": [
      "------------------------------------\n",
      "df_2:\n",
      "   Aminal   Color  Age\n",
      "0    Dog  Yellow    1\n",
      "1    Cat    Pink    3 \n",
      "\n",
      "------------------------------------\n"
     ]
    },
    {
     "data": {
      "text/plain": [
       "Aminal    object\n",
       "Color     object\n",
       "Age        int64\n",
       "dtype: object"
      ]
     },
     "execution_count": 12,
     "metadata": {},
     "output_type": "execute_result"
    }
   ],
   "source": [
    "# Create a data frame from numpy array\n",
    "df_1 = pd.DataFrame(y, columns=['col 1', 'col 2', 'col 3', 'col 4'])\n",
    "print(\"df_1:\\n\", df_1, '\\n')\n",
    "print(\"------------------------------------\") # for readability only\n",
    "\n",
    "# You can also use display() to make the dataframe looks nicer at the output\n",
    "print(\"df_1 using display:\")\n",
    "display(df_1)\n",
    "print(\"------------------------------------\")\n",
    "\n",
    "# Create a data frame with strings\n",
    "data_2 = {'Aminal': ['Dog', 'Cat'], 'Color': ['Yellow', 'Pink'], 'Age': [1, 3]}\n",
    "df_2 = pd.DataFrame(data=data_2)\n",
    "print(\"df_2:\\n\", df_2, '\\n')\n",
    "print(\"------------------------------------\")\n",
    "\n",
    "# Print the type of the data. Notice that Age is int\n",
    "df_2.dtypes"
   ]
  },
  {
   "cell_type": "markdown",
   "metadata": {},
   "source": [
    "#### Now it's your turn. \n",
    "\n",
    "**To-do:**\n",
    "\n",
    "1. Create a data frame containing demographics of you and your 2 friends. The data frame should be 3 by 4. The columns will be 'Name', 'Age', 'Height', 'Hobby'. You can make up data if you like. Print or display the result. "
   ]
  },
  {
   "cell_type": "code",
   "execution_count": 22,
   "metadata": {},
   "outputs": [
    {
     "data": {
      "text/html": [
       "<div>\n",
       "<style scoped>\n",
       "    .dataframe tbody tr th:only-of-type {\n",
       "        vertical-align: middle;\n",
       "    }\n",
       "\n",
       "    .dataframe tbody tr th {\n",
       "        vertical-align: top;\n",
       "    }\n",
       "\n",
       "    .dataframe thead th {\n",
       "        text-align: right;\n",
       "    }\n",
       "</style>\n",
       "<table border=\"1\" class=\"dataframe\">\n",
       "  <thead>\n",
       "    <tr style=\"text-align: right;\">\n",
       "      <th></th>\n",
       "      <th>Name</th>\n",
       "      <th>Age</th>\n",
       "      <th>Height</th>\n",
       "      <th>Hobby</th>\n",
       "    </tr>\n",
       "  </thead>\n",
       "  <tbody>\n",
       "    <tr>\n",
       "      <th>0</th>\n",
       "      <td>Anuraag</td>\n",
       "      <td>23</td>\n",
       "      <td>72</td>\n",
       "      <td>Hiking</td>\n",
       "    </tr>\n",
       "    <tr>\n",
       "      <th>1</th>\n",
       "      <td>Mamata</td>\n",
       "      <td>26</td>\n",
       "      <td>62</td>\n",
       "      <td>Netflix</td>\n",
       "    </tr>\n",
       "    <tr>\n",
       "      <th>2</th>\n",
       "      <td>Ramesh</td>\n",
       "      <td>60</td>\n",
       "      <td>60</td>\n",
       "      <td>Biking</td>\n",
       "    </tr>\n",
       "  </tbody>\n",
       "</table>\n",
       "</div>"
      ],
      "text/plain": [
       "      Name Age Height    Hobby\n",
       "0  Anuraag  23     72   Hiking\n",
       "1   Mamata  26     62  Netflix\n",
       "2   Ramesh  60     60   Biking"
      ]
     },
     "execution_count": 22,
     "metadata": {},
     "output_type": "execute_result"
    }
   ],
   "source": [
    "### Insert your code below ###\n",
    "data = np.array([['Anuraag', 23, 72, 'Hiking'], ['Mamata', 26, 62, 'Netflix'], ['Ramesh', 60,  60, 'Biking']])\n",
    "demographics = pd.DataFrame(data, columns = ['Name', 'Age', 'Height', 'Hobby'])\n",
    "demographics\n"
   ]
  },
  {
   "cell_type": "markdown",
   "metadata": {},
   "source": [
    "### Modify Data Frame\n",
    "Notice that when you use `=`, you are not copying data frame. You are just saying that `df_3` is now referring to the same data frame as `df_1`. If you change values in `df_3` you will change the values in `df_1` too, since both are referring to the same dataframe. Also notice that every time you click **Run** in this block, the values in `'col 1'` changes.  "
   ]
  },
  {
   "cell_type": "code",
   "execution_count": 16,
   "metadata": {},
   "outputs": [
    {
     "name": "stdout",
     "output_type": "stream",
     "text": [
      "New df_2:\n"
     ]
    },
    {
     "data": {
      "text/html": [
       "<div>\n",
       "<style scoped>\n",
       "    .dataframe tbody tr th:only-of-type {\n",
       "        vertical-align: middle;\n",
       "    }\n",
       "\n",
       "    .dataframe tbody tr th {\n",
       "        vertical-align: top;\n",
       "    }\n",
       "\n",
       "    .dataframe thead th {\n",
       "        text-align: right;\n",
       "    }\n",
       "</style>\n",
       "<table border=\"1\" class=\"dataframe\">\n",
       "  <thead>\n",
       "    <tr style=\"text-align: right;\">\n",
       "      <th></th>\n",
       "      <th>Aminal</th>\n",
       "      <th>Color</th>\n",
       "      <th>Age</th>\n",
       "      <th>Weight</th>\n",
       "    </tr>\n",
       "  </thead>\n",
       "  <tbody>\n",
       "    <tr>\n",
       "      <th>0</th>\n",
       "      <td>Dog</td>\n",
       "      <td>Yellow</td>\n",
       "      <td>1</td>\n",
       "      <td>89</td>\n",
       "    </tr>\n",
       "    <tr>\n",
       "      <th>1</th>\n",
       "      <td>Cat</td>\n",
       "      <td>Pink</td>\n",
       "      <td>3</td>\n",
       "      <td>60</td>\n",
       "    </tr>\n",
       "  </tbody>\n",
       "</table>\n",
       "</div>"
      ],
      "text/plain": [
       "  Aminal   Color  Age  Weight\n",
       "0    Dog  Yellow    1      89\n",
       "1    Cat    Pink    3      60"
      ]
     },
     "metadata": {},
     "output_type": "display_data"
    },
    {
     "name": "stdout",
     "output_type": "stream",
     "text": [
      "------------------------------------\n",
      "df_3:\n"
     ]
    },
    {
     "data": {
      "text/html": [
       "<div>\n",
       "<style scoped>\n",
       "    .dataframe tbody tr th:only-of-type {\n",
       "        vertical-align: middle;\n",
       "    }\n",
       "\n",
       "    .dataframe tbody tr th {\n",
       "        vertical-align: top;\n",
       "    }\n",
       "\n",
       "    .dataframe thead th {\n",
       "        text-align: right;\n",
       "    }\n",
       "</style>\n",
       "<table border=\"1\" class=\"dataframe\">\n",
       "  <thead>\n",
       "    <tr style=\"text-align: right;\">\n",
       "      <th></th>\n",
       "      <th>col 1</th>\n",
       "      <th>col 2</th>\n",
       "      <th>col 3</th>\n",
       "      <th>col 4</th>\n",
       "    </tr>\n",
       "  </thead>\n",
       "  <tbody>\n",
       "    <tr>\n",
       "      <th>0</th>\n",
       "      <td>-4</td>\n",
       "      <td>1</td>\n",
       "      <td>2</td>\n",
       "      <td>3</td>\n",
       "    </tr>\n",
       "    <tr>\n",
       "      <th>1</th>\n",
       "      <td>0</td>\n",
       "      <td>5</td>\n",
       "      <td>6</td>\n",
       "      <td>7</td>\n",
       "    </tr>\n",
       "  </tbody>\n",
       "</table>\n",
       "</div>"
      ],
      "text/plain": [
       "   col 1  col 2  col 3  col 4\n",
       "0     -4      1      2      3\n",
       "1      0      5      6      7"
      ]
     },
     "metadata": {},
     "output_type": "display_data"
    },
    {
     "name": "stdout",
     "output_type": "stream",
     "text": [
      "df_1:\n"
     ]
    },
    {
     "data": {
      "text/html": [
       "<div>\n",
       "<style scoped>\n",
       "    .dataframe tbody tr th:only-of-type {\n",
       "        vertical-align: middle;\n",
       "    }\n",
       "\n",
       "    .dataframe tbody tr th {\n",
       "        vertical-align: top;\n",
       "    }\n",
       "\n",
       "    .dataframe thead th {\n",
       "        text-align: right;\n",
       "    }\n",
       "</style>\n",
       "<table border=\"1\" class=\"dataframe\">\n",
       "  <thead>\n",
       "    <tr style=\"text-align: right;\">\n",
       "      <th></th>\n",
       "      <th>col 1</th>\n",
       "      <th>col 2</th>\n",
       "      <th>col 3</th>\n",
       "      <th>col 4</th>\n",
       "    </tr>\n",
       "  </thead>\n",
       "  <tbody>\n",
       "    <tr>\n",
       "      <th>0</th>\n",
       "      <td>-4</td>\n",
       "      <td>1</td>\n",
       "      <td>2</td>\n",
       "      <td>3</td>\n",
       "    </tr>\n",
       "    <tr>\n",
       "      <th>1</th>\n",
       "      <td>0</td>\n",
       "      <td>5</td>\n",
       "      <td>6</td>\n",
       "      <td>7</td>\n",
       "    </tr>\n",
       "  </tbody>\n",
       "</table>\n",
       "</div>"
      ],
      "text/plain": [
       "   col 1  col 2  col 3  col 4\n",
       "0     -4      1      2      3\n",
       "1      0      5      6      7"
      ]
     },
     "metadata": {},
     "output_type": "display_data"
    }
   ],
   "source": [
    "# Add a new column\n",
    "df_2['Weight'] = [89, 60]\n",
    "print(\"New df_2:\")\n",
    "display(df_2)\n",
    "print(\"------------------------------------\")\n",
    "\n",
    "# Special thing to take notice\n",
    "df_3 = df_1\n",
    "df_3['col 1'] = df_3['col 1'] - 1\n",
    "print(\"df_3:\")\n",
    "display(df_3)\n",
    "print(\"df_1:\")\n",
    "display(df_1)\n"
   ]
  },
  {
   "cell_type": "markdown",
   "metadata": {},
   "source": [
    "### Print Specific Data\n",
    "Here we use `.loc`, `.at` to obtain the cell values by providing the **labels** (e.g. 'Age', 'Weight'). For rows, since we do not create labels for them the defaults will be 0, 1, 2, 3...etc. We use `.iloc`, `.iat` to obtain the cell values by prividing the indicies (positions) of the rows and columns. "
   ]
  },
  {
   "cell_type": "code",
   "execution_count": 17,
   "metadata": {},
   "outputs": [
    {
     "name": "stdout",
     "output_type": "stream",
     "text": [
      "df_4:\n"
     ]
    },
    {
     "data": {
      "text/html": [
       "<div>\n",
       "<style scoped>\n",
       "    .dataframe tbody tr th:only-of-type {\n",
       "        vertical-align: middle;\n",
       "    }\n",
       "\n",
       "    .dataframe tbody tr th {\n",
       "        vertical-align: top;\n",
       "    }\n",
       "\n",
       "    .dataframe thead th {\n",
       "        text-align: right;\n",
       "    }\n",
       "</style>\n",
       "<table border=\"1\" class=\"dataframe\">\n",
       "  <thead>\n",
       "    <tr style=\"text-align: right;\">\n",
       "      <th></th>\n",
       "      <th>Aminal</th>\n",
       "      <th>Color</th>\n",
       "      <th>Age</th>\n",
       "    </tr>\n",
       "  </thead>\n",
       "  <tbody>\n",
       "    <tr>\n",
       "      <th>0</th>\n",
       "      <td>Dog</td>\n",
       "      <td>Yellow</td>\n",
       "      <td>1</td>\n",
       "    </tr>\n",
       "    <tr>\n",
       "      <th>1</th>\n",
       "      <td>Cat</td>\n",
       "      <td>Pink</td>\n",
       "      <td>3</td>\n",
       "    </tr>\n",
       "  </tbody>\n",
       "</table>\n",
       "</div>"
      ],
      "text/plain": [
       "  Aminal   Color  Age\n",
       "0    Dog  Yellow    1\n",
       "1    Cat    Pink    3"
      ]
     },
     "metadata": {},
     "output_type": "display_data"
    },
    {
     "name": "stdout",
     "output_type": "stream",
     "text": [
      "------------------------------------\n",
      "Age of Dog: 1 \n",
      "\n",
      "------------------------------------\n",
      "Age Column:\n"
     ]
    },
    {
     "data": {
      "text/html": [
       "<div>\n",
       "<style scoped>\n",
       "    .dataframe tbody tr th:only-of-type {\n",
       "        vertical-align: middle;\n",
       "    }\n",
       "\n",
       "    .dataframe tbody tr th {\n",
       "        vertical-align: top;\n",
       "    }\n",
       "\n",
       "    .dataframe thead th {\n",
       "        text-align: right;\n",
       "    }\n",
       "</style>\n",
       "<table border=\"1\" class=\"dataframe\">\n",
       "  <thead>\n",
       "    <tr style=\"text-align: right;\">\n",
       "      <th></th>\n",
       "      <th>Age</th>\n",
       "    </tr>\n",
       "  </thead>\n",
       "  <tbody>\n",
       "    <tr>\n",
       "      <th>0</th>\n",
       "      <td>1</td>\n",
       "    </tr>\n",
       "    <tr>\n",
       "      <th>1</th>\n",
       "      <td>3</td>\n",
       "    </tr>\n",
       "  </tbody>\n",
       "</table>\n",
       "</div>"
      ],
      "text/plain": [
       "   Age\n",
       "0    1\n",
       "1    3"
      ]
     },
     "metadata": {},
     "output_type": "display_data"
    },
    {
     "name": "stdout",
     "output_type": "stream",
     "text": [
      "------------------------------------\n",
      "Age of Cat: 3 \n",
      "\n",
      "------------------------------------\n",
      "Dog row:\n",
      "Aminal       Dog\n",
      "Color     Yellow\n",
      "Age            1\n",
      "Name: 0, dtype: object \n",
      "\n",
      "------------------------------------\n",
      "Animals' age:\n",
      "0    1\n",
      "1    3\n",
      "Name: Age, dtype: int64 \n",
      "\n",
      "------------------------------------\n",
      "Age of Cat:  3\n"
     ]
    }
   ],
   "source": [
    "# Few ways to view the values\n",
    "\n",
    "# Create a data frame based on data_2; the values are copied\n",
    "df_4 = pd.DataFrame(data=data_2)\n",
    "print(\"df_4:\")\n",
    "display(df_4)\n",
    "print(\"------------------------------------\")\n",
    "\n",
    "# Selection by Label\n",
    "    # Getting the scalar value\n",
    "dog_age = df_4.loc[0, 'Age']\n",
    "print(\"Age of Dog:\", dog_age, '\\n')\n",
    "print(\"------------------------------------\")\n",
    "\n",
    "    # Getting the whole column \n",
    "aminals_age = df_4.loc[:, ['Age']]\n",
    "print(\"Age Column:\")\n",
    "display(aminals_age)\n",
    "print(\"------------------------------------\")\n",
    "\n",
    "    # Faster way to get a scalar\n",
    "cat_age = df_4.at[1, 'Age']\n",
    "print(\"Age of Cat:\", cat_age, '\\n')\n",
    "print(\"------------------------------------\")\n",
    "\n",
    "# Selection by position\n",
    "    # Selecting Row based on row number\n",
    "dog = df_4.iloc[0]\n",
    "print(\"Dog row:\")\n",
    "print(dog, '\\n')\n",
    "print(\"------------------------------------\")\n",
    "\n",
    "    # Selecting Col based on col number\n",
    "animals_age_p = df_4.iloc[:, 2]\n",
    "print(\"Animals' age:\")\n",
    "print(animals_age_p, '\\n')\n",
    "print(\"------------------------------------\")\n",
    "    # Selecting cell based on col number\n",
    "cat_age_p = df_4.iat[1, 2]\n",
    "print(\"Age of Cat: \", cat_age_p)"
   ]
  },
  {
   "cell_type": "markdown",
   "metadata": {},
   "source": [
    "#### Now it's your turn.\n",
    "**To-do:**\n",
    "\n",
    "1. Add a new **row** to your **demographics** data frame. The new row will contain information of another friend. *Note that we haven't taught you how to do so but you should be able to find resources online easily.* Print/display the data frame.\n",
    "2. Print all the information (whole row) about you using `.loc`.\n",
    "3. Print the 'Name' of your second friend using `.iat`.\n"
   ]
  },
  {
   "cell_type": "code",
   "execution_count": 38,
   "metadata": {},
   "outputs": [
    {
     "name": "stdout",
     "output_type": "stream",
     "text": [
      "My info:\n",
      " Name      Anuraag\n",
      "Age            23\n",
      "Height         72\n",
      "Hobby      Hiking\n",
      "Name: 0, dtype: object \n",
      "\n",
      "2nd friend:\n",
      " Ramesh\n"
     ]
    }
   ],
   "source": [
    "### Insert your code below ###\n",
    "new_row = {'Name': 'Mala', 'Age': 52, 'Height': 60, 'Hobby': 'Walking'}\n",
    "# demographics.append(new_row, ignore_index=True)\n",
    "print('My info:\\n', demographics.loc[0], '\\n')\n",
    "print('2nd friend:\\n', demographics.iat[2, 0])"
   ]
  },
  {
   "cell_type": "markdown",
   "metadata": {},
   "source": [
    "**Congradulation on finishing the tutorial! Now you can move on to the next step of the lab.**"
   ]
  }
 ],
 "metadata": {
  "kernelspec": {
   "display_name": "Python 3",
   "language": "python",
   "name": "python3"
  },
  "language_info": {
   "codemirror_mode": {
    "name": "ipython",
    "version": 3
   },
   "file_extension": ".py",
   "mimetype": "text/x-python",
   "name": "python",
   "nbconvert_exporter": "python",
   "pygments_lexer": "ipython3",
   "version": "3.8.5"
  }
 },
 "nbformat": 4,
 "nbformat_minor": 4
}
